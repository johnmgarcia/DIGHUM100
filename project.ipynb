{
 "cells": [
  {
   "cell_type": "code",
   "execution_count": 4,
   "metadata": {},
   "outputs": [],
   "source": [
    "import pandas as pd\n",
    "import os"
   ]
  },
  {
   "cell_type": "code",
   "execution_count": 10,
   "metadata": {},
   "outputs": [],
   "source": [
    "df = pd.read_csv(\"active-addresses_csv.csv\")"
   ]
  },
  {
   "cell_type": "code",
   "execution_count": 9,
   "metadata": {},
   "outputs": [
    {
     "name": "stdout",
     "output_type": "stream",
     "text": [
      " Volume in drive C is X\n",
      " Volume Serial Number is 3845-C00A\n",
      "\n",
      " Directory of C:\\Users\\JM\\Desktop\\glassnode\n",
      "\n",
      "06/20/2021  05:26 PM    <DIR>          .\n",
      "06/20/2021  05:26 PM    <DIR>          ..\n",
      "06/20/2021  05:24 PM    <DIR>          .ipynb_checkpoints\n",
      "06/20/2021  04:37 PM           146,368 active-addresses_csv.csv\n",
      "06/20/2021  05:07 PM               489 futures-open-interest-current.csv\n",
      "06/20/2021  05:26 PM               829 Untitled.ipynb\n",
      "               3 File(s)        147,686 bytes\n",
      "               3 Dir(s)  31,625,519,104 bytes free\n"
     ]
    }
   ],
   "source": [
    "%ls"
   ]
  },
  {
   "cell_type": "code",
   "execution_count": 11,
   "metadata": {},
   "outputs": [
    {
     "data": {
      "text/html": [
       "<div>\n",
       "<style scoped>\n",
       "    .dataframe tbody tr th:only-of-type {\n",
       "        vertical-align: middle;\n",
       "    }\n",
       "\n",
       "    .dataframe tbody tr th {\n",
       "        vertical-align: top;\n",
       "    }\n",
       "\n",
       "    .dataframe thead th {\n",
       "        text-align: right;\n",
       "    }\n",
       "</style>\n",
       "<table border=\"1\" class=\"dataframe\">\n",
       "  <thead>\n",
       "    <tr style=\"text-align: right;\">\n",
       "      <th></th>\n",
       "      <th>t</th>\n",
       "      <th>v</th>\n",
       "    </tr>\n",
       "  </thead>\n",
       "  <tbody>\n",
       "    <tr>\n",
       "      <th>0</th>\n",
       "      <td>2009-01-03T00:00:00Z</td>\n",
       "      <td>0</td>\n",
       "    </tr>\n",
       "    <tr>\n",
       "      <th>1</th>\n",
       "      <td>2009-01-04T00:00:00Z</td>\n",
       "      <td>0</td>\n",
       "    </tr>\n",
       "    <tr>\n",
       "      <th>2</th>\n",
       "      <td>2009-01-05T00:00:00Z</td>\n",
       "      <td>0</td>\n",
       "    </tr>\n",
       "    <tr>\n",
       "      <th>3</th>\n",
       "      <td>2009-01-06T00:00:00Z</td>\n",
       "      <td>0</td>\n",
       "    </tr>\n",
       "    <tr>\n",
       "      <th>4</th>\n",
       "      <td>2009-01-07T00:00:00Z</td>\n",
       "      <td>0</td>\n",
       "    </tr>\n",
       "    <tr>\n",
       "      <th>...</th>\n",
       "      <td>...</td>\n",
       "      <td>...</td>\n",
       "    </tr>\n",
       "    <tr>\n",
       "      <th>4546</th>\n",
       "      <td>2021-06-15T00:00:00Z</td>\n",
       "      <td>982683</td>\n",
       "    </tr>\n",
       "    <tr>\n",
       "      <th>4547</th>\n",
       "      <td>2021-06-16T00:00:00Z</td>\n",
       "      <td>951330</td>\n",
       "    </tr>\n",
       "    <tr>\n",
       "      <th>4548</th>\n",
       "      <td>2021-06-17T00:00:00Z</td>\n",
       "      <td>864257</td>\n",
       "    </tr>\n",
       "    <tr>\n",
       "      <th>4549</th>\n",
       "      <td>2021-06-18T00:00:00Z</td>\n",
       "      <td>816930</td>\n",
       "    </tr>\n",
       "    <tr>\n",
       "      <th>4550</th>\n",
       "      <td>2021-06-19T00:00:00Z</td>\n",
       "      <td>693944</td>\n",
       "    </tr>\n",
       "  </tbody>\n",
       "</table>\n",
       "<p>4551 rows × 2 columns</p>\n",
       "</div>"
      ],
      "text/plain": [
       "                         t       v\n",
       "0     2009-01-03T00:00:00Z       0\n",
       "1     2009-01-04T00:00:00Z       0\n",
       "2     2009-01-05T00:00:00Z       0\n",
       "3     2009-01-06T00:00:00Z       0\n",
       "4     2009-01-07T00:00:00Z       0\n",
       "...                    ...     ...\n",
       "4546  2021-06-15T00:00:00Z  982683\n",
       "4547  2021-06-16T00:00:00Z  951330\n",
       "4548  2021-06-17T00:00:00Z  864257\n",
       "4549  2021-06-18T00:00:00Z  816930\n",
       "4550  2021-06-19T00:00:00Z  693944\n",
       "\n",
       "[4551 rows x 2 columns]"
      ]
     },
     "execution_count": 11,
     "metadata": {},
     "output_type": "execute_result"
    }
   ],
   "source": [
    "df"
   ]
  },
  {
   "cell_type": "code",
   "execution_count": null,
   "metadata": {},
   "outputs": [],
   "source": []
  }
 ],
 "metadata": {
  "kernelspec": {
   "display_name": "Python 3",
   "language": "python",
   "name": "python3"
  },
  "language_info": {
   "codemirror_mode": {
    "name": "ipython",
    "version": 3
   },
   "file_extension": ".py",
   "mimetype": "text/x-python",
   "name": "python",
   "nbconvert_exporter": "python",
   "pygments_lexer": "ipython3",
   "version": "3.8.3"
  }
 },
 "nbformat": 4,
 "nbformat_minor": 4
}
